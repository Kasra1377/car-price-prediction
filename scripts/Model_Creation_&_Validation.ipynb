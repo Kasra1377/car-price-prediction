{
  "nbformat": 4,
  "nbformat_minor": 0,
  "metadata": {
    "colab": {
      "name": "Model Creation & Validation.ipynb",
      "provenance": [],
      "collapsed_sections": []
    },
    "kernelspec": {
      "name": "python3",
      "display_name": "Python 3"
    },
    "language_info": {
      "name": "python"
    }
  },
  "cells": [
    {
      "cell_type": "code",
      "metadata": {
        "id": "1S67Llz6v7j4"
      },
      "source": [
        "import numpy as np\n",
        "import pandas as pd\n",
        "import matplotlib.pyplot as plt\n",
        "from sklearn.ensemble import RandomForestRegressor\n",
        "from sklearn.model_selection import GridSearchCV\n",
        "from sklearn import metrics"
      ],
      "execution_count": null,
      "outputs": []
    },
    {
      "cell_type": "code",
      "metadata": {
        "id": "ERBgTfcV0fzu"
      },
      "source": [
        "X_train = pd.read_csv(\"/content/drive/MyDrive/Datasets/car-data/x_train.csv\")\n",
        "X_test = pd.read_csv(\"/content/drive/MyDrive/Datasets/car-data/x_test.csv\")\n",
        "y_train = pd.read_csv(\"/content/drive/MyDrive/Datasets/car-data/y_train.csv\")\n",
        "y_test = pd.read_csv(\"/content/drive/MyDrive/Datasets/car-data/y_test.csv\")"
      ],
      "execution_count": null,
      "outputs": []
    },
    {
      "cell_type": "code",
      "metadata": {
        "id": "jO-60D419e2y"
      },
      "source": [
        "X_train = X_train.drop(columns = {\"Unnamed: 0\"})\n",
        "y_train = y_train.drop(columns = {\"Unnamed: 0\"})\n",
        "X_test = X_test.drop(columns = {\"Unnamed: 0\"})\n",
        "y_test = y_test.drop(columns = {\"Unnamed: 0\"})"
      ],
      "execution_count": null,
      "outputs": []
    },
    {
      "cell_type": "code",
      "metadata": {
        "colab": {
          "base_uri": "https://localhost:8080/"
        },
        "id": "1kyPX4MF8m8c",
        "outputId": "347bead9-8d99-4185-dc72-3ed6b79348ab"
      },
      "source": [
        "print(\"X_train.shape : \" , X_train.shape)\n",
        "print(\"X_test.shape : \" , X_test.shape)\n",
        "print(\"y_train.shape : \" , y_train.shape)\n",
        "print(\"y_test.shape : \" , y_test.shape)"
      ],
      "execution_count": null,
      "outputs": [
        {
          "output_type": "stream",
          "text": [
            "X_train.shape :  (205, 5)\n",
            "X_test.shape :  (69, 5)\n",
            "y_train.shape :  (205, 1)\n",
            "y_test.shape :  (69, 1)\n"
          ],
          "name": "stdout"
        }
      ]
    },
    {
      "cell_type": "markdown",
      "metadata": {
        "id": "OFPDh23Qg6mo"
      },
      "source": [
        "<h4>GridSearchCV</h4>"
      ]
    },
    {
      "cell_type": "code",
      "metadata": {
        "id": "afUGKuXiOwTZ"
      },
      "source": [
        "# param_grid"
      ],
      "execution_count": null,
      "outputs": []
    },
    {
      "cell_type": "code",
      "metadata": {
        "id": "weLlicTAH8vA"
      },
      "source": [
        "# param_grid = {\"n_estimators\" : [500 , 1000 , 1500 , 2000],\n",
        "#               \"max_depth\" : [x for x in range(1 , 6)],\n",
        "#               \"max_features\" : [\"sqrt\" , \"auto\" , \"log2\"]\n",
        "#               }\n",
        "# rf_reg = RandomForestRegressor()\n",
        "# rf_cv = GridSearchCV(estimator = rf_reg , param_grid = param_grid , scoring='neg_mean_squared_error' , n_jobs = -1 , verbose=True)\n",
        "# rf_cv.fit(X_train, np.ravel(y_train))"
      ],
      "execution_count": null,
      "outputs": []
    },
    {
      "cell_type": "code",
      "metadata": {
        "id": "HZHD3DP_PWSm"
      },
      "source": [
        "# rf_cv.best_params_"
      ],
      "execution_count": null,
      "outputs": []
    },
    {
      "cell_type": "code",
      "metadata": {
        "colab": {
          "base_uri": "https://localhost:8080/"
        },
        "id": "k4DiMjese2u4",
        "outputId": "ed957e85-4994-4412-d0d6-1065fe5febaa"
      },
      "source": [
        "rf_reg = RandomForestRegressor(n_estimators = 2000 , max_depth = 5, max_features = \"auto\" , random_state=1)\n",
        "rf_reg.fit(X_train , np.ravel(y_train))\n",
        "rfreg_test_prediction = rf_reg.predict(X_test)\n",
        "print(\"Random Forest Mean Squared Error(MSE) On Test Set : \" , round(metrics.mean_squared_error(y_test , rfreg_test_prediction) , 2))"
      ],
      "execution_count": null,
      "outputs": [
        {
          "output_type": "stream",
          "text": [
            "Random Forest Mean Squared Error(MSE) On Test Set :  0.64\n"
          ],
          "name": "stdout"
        }
      ]
    },
    {
      "cell_type": "code",
      "metadata": {
        "colab": {
          "base_uri": "https://localhost:8080/"
        },
        "id": "9uLC3wjAtfce",
        "outputId": "7421abc4-688a-47e7-a395-b9a5dbdca648"
      },
      "source": [
        "rfreg_train_prediction = rf_reg.predict(X_train)\n",
        "print(\"Random Forest Mean Squared Error(MSE) On Training Set : \" , round(metrics.mean_squared_error(y_train , rfreg_train_prediction) , 2))"
      ],
      "execution_count": null,
      "outputs": [
        {
          "output_type": "stream",
          "text": [
            "Random Forest Mean Squared Error(MSE) On Training Set :  0.23\n"
          ],
          "name": "stdout"
        }
      ]
    },
    {
      "cell_type": "markdown",
      "metadata": {
        "id": "JGbY3iBUhAim"
      },
      "source": [
        "<h3>Cross-Validation</h3>\n",
        "GridSearch usually uses CV technique but it does only on training set.But CV itself uses this technique on both trainig and test set.\n",
        "<h4>K-Fold Cross Validation</h4>"
      ]
    },
    {
      "cell_type": "code",
      "metadata": {
        "id": "uy4QC1UYk7Hi"
      },
      "source": [
        "X = pd.concat([X_train , X_test] , axis = 0)\n",
        "y = pd.concat([y_train , y_test] , axis = 0)"
      ],
      "execution_count": null,
      "outputs": []
    },
    {
      "cell_type": "code",
      "metadata": {
        "id": "Hs5ppYMc8396",
        "colab": {
          "base_uri": "https://localhost:8080/"
        },
        "outputId": "76bb5c7f-e394-48c9-c0c5-c367295cb293"
      },
      "source": [
        "from sklearn.model_selection import KFold\n",
        "from sklearn.model_selection import cross_val_score\n",
        "kfold_cv = KFold(10 , shuffle=True)\n",
        "mse_results = cross_val_score(rf_reg , X , np.ravel(y) , cv = kfold_cv , scoring='neg_mean_squared_error')\n",
        "print(-1 * mse_results)"
      ],
      "execution_count": null,
      "outputs": [
        {
          "output_type": "stream",
          "text": [
            "[1.18129455 0.69912828 0.94515876 0.36928433 0.50933675 0.55247769\n",
            " 0.64960417 0.4639541  0.36392436 0.56103478]\n"
          ],
          "name": "stdout"
        }
      ]
    },
    {
      "cell_type": "code",
      "metadata": {
        "colab": {
          "base_uri": "https://localhost:8080/"
        },
        "id": "KAX7h1bymc1G",
        "outputId": "ce84edf8-d8d6-4a5c-cd9c-06d066f84f0d"
      },
      "source": [
        "print(\"The mean of MSE scores is : \" , -1 * (np.sum(mse_results) / mse_results.shape[0]))"
      ],
      "execution_count": null,
      "outputs": [
        {
          "output_type": "stream",
          "text": [
            "The mean of MSE scores is :  0.629519777085835\n"
          ],
          "name": "stdout"
        }
      ]
    },
    {
      "cell_type": "code",
      "metadata": {
        "colab": {
          "base_uri": "https://localhost:8080/"
        },
        "id": "9mbwv3ulqG8I",
        "outputId": "81ca7d8e-aaf2-44e0-b8bb-f53cceccdded"
      },
      "source": [
        "r2_results = cross_val_score(rf_reg , X , np.ravel(y) , cv = kfold_cv , scoring='r2')\n",
        "print(r2_results)"
      ],
      "execution_count": null,
      "outputs": [
        {
          "output_type": "stream",
          "text": [
            "[0.95018046 0.93807554 0.95779914 0.95875117 0.95064464 0.94088271\n",
            " 0.92846534 0.9382017  0.87682328 0.92296815]\n"
          ],
          "name": "stdout"
        }
      ]
    },
    {
      "cell_type": "code",
      "metadata": {
        "colab": {
          "base_uri": "https://localhost:8080/"
        },
        "id": "haEP4ysmqlm5",
        "outputId": "2339492c-0f88-4d6e-a6be-c626cfbde83b"
      },
      "source": [
        "print(\"The mean of R2 scores is : \" , (np.sum(r2_results) / r2_results.shape[0]))"
      ],
      "execution_count": null,
      "outputs": [
        {
          "output_type": "stream",
          "text": [
            "The mean of R2 scores is :  0.9362792123333863\n"
          ],
          "name": "stdout"
        }
      ]
    },
    {
      "cell_type": "markdown",
      "metadata": {
        "id": "k1tJO4B2fnf-"
      },
      "source": [
        "<h3>Comparing Results With Ground Truth Values</h3>"
      ]
    },
    {
      "cell_type": "code",
      "metadata": {
        "colab": {
          "base_uri": "https://localhost:8080/",
          "height": 336
        },
        "id": "jZsT6hGRfxpO",
        "outputId": "617f0a53-f5f2-4c7d-f4fd-c8b94e180479"
      },
      "source": [
        "import seaborn as sns\n",
        "sns.distplot(y_test- rfreg_test_prediction.reshape(-1 , 1))"
      ],
      "execution_count": null,
      "outputs": [
        {
          "output_type": "stream",
          "text": [
            "/usr/local/lib/python3.7/dist-packages/seaborn/distributions.py:2557: FutureWarning: `distplot` is a deprecated function and will be removed in a future version. Please adapt your code to use either `displot` (a figure-level function with similar flexibility) or `histplot` (an axes-level function for histograms).\n",
            "  warnings.warn(msg, FutureWarning)\n"
          ],
          "name": "stderr"
        },
        {
          "output_type": "execute_result",
          "data": {
            "text/plain": [
              "<matplotlib.axes._subplots.AxesSubplot at 0x7f07c33c2190>"
            ]
          },
          "metadata": {
            "tags": []
          },
          "execution_count": 15
        },
        {
          "output_type": "display_data",
          "data": {
            "image/png": "[encoded data removed]",
            "text/plain": [
              "<Figure size 432x288 with 1 Axes>"
            ]
          },
          "metadata": {
            "tags": [],
            "needs_background": "light"
          }
        }
      ]
    },
    {
      "cell_type": "code",
      "metadata": {
        "colab": {
          "base_uri": "https://localhost:8080/",
          "height": 282
        },
        "id": "HmOlKx0VhZFy",
        "outputId": "eb1073ad-b4cb-45f6-e718-d934ff298fdf"
      },
      "source": [
        "plt.scatter(y_test , rfreg_test_prediction)"
      ],
      "execution_count": null,
      "outputs": [
        {
          "output_type": "execute_result",
          "data": {
            "text/plain": [
              "<matplotlib.collections.PathCollection at 0x7f07c03424d0>"
            ]
          },
          "metadata": {
            "tags": []
          },
          "execution_count": 16
        },
        {
          "output_type": "display_data",
          "data": {
            "image/png": "[encoded data removed]",
            "text/plain": [
              "<Figure size 432x288 with 1 Axes>"
            ]
          },
          "metadata": {
            "tags": [],
            "needs_background": "light"
          }
        }
      ]
    },
    {
      "cell_type": "markdown",
      "metadata": {
        "id": "SPdQTJXxiP1F"
      },
      "source": [
        "<h4>Saving The Model</h4>"
      ]
    },
    {
      "cell_type": "code",
      "metadata": {
        "id": "bs5zlXfViTGW"
      },
      "source": [
        "# import pickle\n",
        "# file = open(\"car-price-prediction-model.pkl\" , \"wb\")\n",
        "# pickle.dump(rf_reg , file)"
      ],
      "execution_count": null,
      "outputs": []
    }
  ]
}