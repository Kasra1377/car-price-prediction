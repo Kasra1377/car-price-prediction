{
  "nbformat": 4,
  "nbformat_minor": 0,
  "metadata": {
    "colab": {
      "name": "Feature Engineering & Selection.ipynb",
      "provenance": [],
      "collapsed_sections": []
    },
    "kernelspec": {
      "name": "python3",
      "display_name": "Python 3"
    },
    "language_info": {
      "name": "python"
    }
  },
  "cells": [
    {
      "cell_type": "code",
      "metadata": {
        "id": "wn41f9b-AFoT"
      },
      "source": [
        "import numpy as np\n",
        "import pandas as pd\n",
        "import matplotlib.pyplot as plt\n",
        "import seaborn as sns\n",
        "from scipy import stats\n",
        "from scipy.stats import chi2\n",
        "from sklearn.model_selection import train_test_split"
      ],
      "execution_count": null,
      "outputs": []
    },
    {
      "cell_type": "code",
      "metadata": {
        "id": "dxB8hyYyAp4V"
      },
      "source": [
        "car_data = pd.read_csv(\"/content/drive/MyDrive/Datasets/cleaned_car_data.csv\")"
      ],
      "execution_count": null,
      "outputs": []
    },
    {
      "cell_type": "code",
      "metadata": {
        "id": "qZ07NJXbCWcT"
      },
      "source": [
        "car_data = car_data.drop(columns = {\"Unnamed: 0\"})"
      ],
      "execution_count": null,
      "outputs": []
    },
    {
      "cell_type": "code",
      "metadata": {
        "colab": {
          "base_uri": "https://localhost:8080/",
          "height": 204
        },
        "id": "KGzOTjEUAqp1",
        "outputId": "c89c7cdd-830f-43b2-e1e7-c5e960779fcf"
      },
      "source": [
        "car_data.head()"
      ],
      "execution_count": null,
      "outputs": [
        {
          "output_type": "execute_result",
          "data": {
            "text/html": [
              "<div>\n",
              "<style scoped>\n",
              "    .dataframe tbody tr th:only-of-type {\n",
              "        vertical-align: middle;\n",
              "    }\n",
              "\n",
              "    .dataframe tbody tr th {\n",
              "        vertical-align: top;\n",
              "    }\n",
              "\n",
              "    .dataframe thead th {\n",
              "        text-align: right;\n",
              "    }\n",
              "</style>\n",
              "<table border=\"1\" class=\"dataframe\">\n",
              "  <thead>\n",
              "    <tr style=\"text-align: right;\">\n",
              "      <th></th>\n",
              "      <th>Year</th>\n",
              "      <th>Selling_Price</th>\n",
              "      <th>Present_Price</th>\n",
              "      <th>Kms_Driven</th>\n",
              "      <th>Fuel_Type</th>\n",
              "      <th>Seller_Type</th>\n",
              "      <th>Transmission</th>\n",
              "      <th>Owner</th>\n",
              "    </tr>\n",
              "  </thead>\n",
              "  <tbody>\n",
              "    <tr>\n",
              "      <th>0</th>\n",
              "      <td>2014</td>\n",
              "      <td>3.35</td>\n",
              "      <td>5.59</td>\n",
              "      <td>27000</td>\n",
              "      <td>Petrol</td>\n",
              "      <td>Dealer</td>\n",
              "      <td>Manual</td>\n",
              "      <td>0</td>\n",
              "    </tr>\n",
              "    <tr>\n",
              "      <th>1</th>\n",
              "      <td>2013</td>\n",
              "      <td>4.75</td>\n",
              "      <td>9.54</td>\n",
              "      <td>43000</td>\n",
              "      <td>Diesel</td>\n",
              "      <td>Dealer</td>\n",
              "      <td>Manual</td>\n",
              "      <td>0</td>\n",
              "    </tr>\n",
              "    <tr>\n",
              "      <th>2</th>\n",
              "      <td>2017</td>\n",
              "      <td>7.25</td>\n",
              "      <td>9.85</td>\n",
              "      <td>6900</td>\n",
              "      <td>Petrol</td>\n",
              "      <td>Dealer</td>\n",
              "      <td>Manual</td>\n",
              "      <td>0</td>\n",
              "    </tr>\n",
              "    <tr>\n",
              "      <th>3</th>\n",
              "      <td>2011</td>\n",
              "      <td>2.85</td>\n",
              "      <td>4.15</td>\n",
              "      <td>5200</td>\n",
              "      <td>Petrol</td>\n",
              "      <td>Dealer</td>\n",
              "      <td>Manual</td>\n",
              "      <td>0</td>\n",
              "    </tr>\n",
              "    <tr>\n",
              "      <th>4</th>\n",
              "      <td>2014</td>\n",
              "      <td>4.60</td>\n",
              "      <td>6.87</td>\n",
              "      <td>42450</td>\n",
              "      <td>Diesel</td>\n",
              "      <td>Dealer</td>\n",
              "      <td>Manual</td>\n",
              "      <td>0</td>\n",
              "    </tr>\n",
              "  </tbody>\n",
              "</table>\n",
              "</div>"
            ],
            "text/plain": [
              "   Year  Selling_Price  Present_Price  ...  Seller_Type Transmission Owner\n",
              "0  2014           3.35           5.59  ...       Dealer       Manual     0\n",
              "1  2013           4.75           9.54  ...       Dealer       Manual     0\n",
              "2  2017           7.25           9.85  ...       Dealer       Manual     0\n",
              "3  2011           2.85           4.15  ...       Dealer       Manual     0\n",
              "4  2014           4.60           6.87  ...       Dealer       Manual     0\n",
              "\n",
              "[5 rows x 8 columns]"
            ]
          },
          "metadata": {
            "tags": []
          },
          "execution_count": 4
        }
      ]
    },
    {
      "cell_type": "code",
      "metadata": {
        "colab": {
          "base_uri": "https://localhost:8080/"
        },
        "id": "26KjacY5q5zy",
        "outputId": "e1f1a614-9d7b-4743-b103-ce6eaf7496fe"
      },
      "source": [
        "car_data.info()"
      ],
      "execution_count": null,
      "outputs": [
        {
          "output_type": "stream",
          "text": [
            "<class 'pandas.core.frame.DataFrame'>\n",
            "RangeIndex: 274 entries, 0 to 273\n",
            "Data columns (total 8 columns):\n",
            " #   Column         Non-Null Count  Dtype  \n",
            "---  ------         --------------  -----  \n",
            " 0   Year           274 non-null    int64  \n",
            " 1   Selling_Price  274 non-null    float64\n",
            " 2   Present_Price  274 non-null    float64\n",
            " 3   Kms_Driven     274 non-null    int64  \n",
            " 4   Fuel_Type      274 non-null    object \n",
            " 5   Seller_Type    274 non-null    object \n",
            " 6   Transmission   274 non-null    object \n",
            " 7   Owner          274 non-null    int64  \n",
            "dtypes: float64(2), int64(3), object(3)\n",
            "memory usage: 17.2+ KB\n"
          ],
          "name": "stdout"
        }
      ]
    },
    {
      "cell_type": "code",
      "metadata": {
        "id": "muzriXjIu-Vo"
      },
      "source": [
        "car_data[\"Owner\"] = car_data[\"Owner\"].astype(\"object\")"
      ],
      "execution_count": null,
      "outputs": []
    },
    {
      "cell_type": "code",
      "metadata": {
        "colab": {
          "base_uri": "https://localhost:8080/"
        },
        "id": "n3hvJQrNCdQL",
        "outputId": "cdfa539e-a3c8-426e-d3c8-4f023ead7f01"
      },
      "source": [
        "car_data.shape"
      ],
      "execution_count": null,
      "outputs": [
        {
          "output_type": "execute_result",
          "data": {
            "text/plain": [
              "(274, 8)"
            ]
          },
          "metadata": {
            "tags": []
          },
          "execution_count": 7
        }
      ]
    },
    {
      "cell_type": "code",
      "metadata": {
        "id": "5FrBiTMAB2OY"
      },
      "source": [
        "X = car_data[[\"Year\" , \"Present_Price\" , \"Kms_Driven\" , \"Fuel_Type\" , \"Seller_Type\" , \"Transmission\" , \"Owner\"]]\n",
        "y = car_data[[\"Selling_Price\"]]"
      ],
      "execution_count": null,
      "outputs": []
    },
    {
      "cell_type": "code",
      "metadata": {
        "id": "00hwE-gJIybJ"
      },
      "source": [
        "X_train , X_test , y_train , y_test = train_test_split(X , y , shuffle = True , random_state = 1)"
      ],
      "execution_count": null,
      "outputs": []
    },
    {
      "cell_type": "code",
      "metadata": {
        "colab": {
          "base_uri": "https://localhost:8080/"
        },
        "id": "heBdqYlLJKOI",
        "outputId": "afca25a5-3ccf-4c3d-ccff-dde1f8d92c9d"
      },
      "source": [
        "print(\"X_train.shape : \" , X_train.shape)\n",
        "print(\"X_test.shape : \" , X_test.shape)\n",
        "print(\"y_train.shape : \" , y_train.shape)\n",
        "print(\"y_test.shape : \" , y_test.shape)"
      ],
      "execution_count": null,
      "outputs": [
        {
          "output_type": "stream",
          "text": [
            "X_train.shape :  (205, 7)\n",
            "X_test.shape :  (69, 7)\n",
            "y_train.shape :  (205, 1)\n",
            "y_test.shape :  (69, 1)\n"
          ],
          "name": "stdout"
        }
      ]
    },
    {
      "cell_type": "markdown",
      "metadata": {
        "id": "0AoX3XKePbAI"
      },
      "source": [
        "<h3>Feature Engineering</h3>\n",
        "<h4>Checking For NaN Values</h4>"
      ]
    },
    {
      "cell_type": "code",
      "metadata": {
        "colab": {
          "base_uri": "https://localhost:8080/",
          "height": 339
        },
        "id": "hgI0ZULmC2WU",
        "outputId": "f26b78fb-bb3c-4156-bb1a-e25753ebfc48"
      },
      "source": [
        "sns.heatmap(X.isnull() , yticklabels = False , cbar = False , cmap = \"viridis\")"
      ],
      "execution_count": null,
      "outputs": [
        {
          "output_type": "execute_result",
          "data": {
            "text/plain": [
              "<matplotlib.axes._subplots.AxesSubplot at 0x7f6c86203650>"
            ]
          },
          "metadata": {
            "tags": []
          },
          "execution_count": 11
        },
        {
          "output_type": "display_data",
          "data": {
            "image/png": "[encoded data removed]",
            "text/plain": [
              "<Figure size 432x288 with 1 Axes>"
            ]
          },
          "metadata": {
            "tags": [],
            "needs_background": "light"
          }
        }
      ]
    },
    {
      "cell_type": "code",
      "metadata": {
        "colab": {
          "base_uri": "https://localhost:8080/",
          "height": 283
        },
        "id": "PoaVSXVmDIjr",
        "outputId": "e5bb0f6d-44e9-4c49-f229-3d51b866836b"
      },
      "source": [
        "sns.heatmap(y.isnull() , yticklabels = False , cbar = False , cmap = \"viridis\")"
      ],
      "execution_count": null,
      "outputs": [
        {
          "output_type": "execute_result",
          "data": {
            "text/plain": [
              "<matplotlib.axes._subplots.AxesSubplot at 0x7f6c7e128f90>"
            ]
          },
          "metadata": {
            "tags": []
          },
          "execution_count": 12
        },
        {
          "output_type": "display_data",
          "data": {
            "image/png": "[encoded data removed]",
            "text/plain": [
              "<Figure size 432x288 with 1 Axes>"
            ]
          },
          "metadata": {
            "tags": [],
            "needs_background": "light"
          }
        }
      ]
    },
    {
      "cell_type": "markdown",
      "metadata": {
        "id": "SlfuYus_Pr7F"
      },
      "source": [
        "<h4>Count/Frequency Encoding</h4>"
      ]
    },
    {
      "cell_type": "code",
      "metadata": {
        "colab": {
          "base_uri": "https://localhost:8080/"
        },
        "id": "3wQIqyUiGRVc",
        "outputId": "e3a36753-3f76-4f29-e94f-7129f2b268e9"
      },
      "source": [
        "for i in car_data.columns:\n",
        "  if car_data[i].dtype == \"object\":\n",
        "    print(i,\":\",len(car_data[i].unique()),\"labels\")\n",
        "  else:\n",
        "    continue"
      ],
      "execution_count": null,
      "outputs": [
        {
          "output_type": "stream",
          "text": [
            "Fuel_Type : 3 labels\n",
            "Seller_Type : 2 labels\n",
            "Transmission : 2 labels\n",
            "Owner : 2 labels\n"
          ],
          "name": "stdout"
        }
      ]
    },
    {
      "cell_type": "code",
      "metadata": {
        "id": "rjtFBiIZN8x3"
      },
      "source": [
        "# def count_encoding(data , excluding_cols = []):\n",
        "#   feature_dict = {}\n",
        "#   for i in data.columns:\n",
        "#     if (data[i].dtype == \"object\") and (i not in excluding_cols):\n",
        "#       feature_dict.update(data[i].value_counts().to_dict())\n",
        "#       data[i] = data[i].map(data[i].value_counts().to_dict())\n",
        "#       data[i] = data[i].astype(\"object\")     \n",
        "#     else:\n",
        "#       continue\n",
        "#   return data , feature_dict"
      ],
      "execution_count": null,
      "outputs": []
    },
    {
      "cell_type": "code",
      "metadata": {
        "id": "z9c3xVB3EYbe"
      },
      "source": [
        "# _ , feature_dict = count_encoding(X_train , excluding_cols = [\"Owner\"])\n",
        "# feature_dict"
      ],
      "execution_count": null,
      "outputs": []
    },
    {
      "cell_type": "code",
      "metadata": {
        "id": "ARWMf002OnUe"
      },
      "source": [
        "# X_train , feature_dict = count_encoding(X_train , excluding_cols = [\"Owner\"])\n",
        "# X_test = X_test.replace(feature_dict)"
      ],
      "execution_count": null,
      "outputs": []
    },
    {
      "cell_type": "code",
      "metadata": {
        "id": "jm8meSGsJzo7"
      },
      "source": [
        "# X_test[\"Fuel_Type\"] = X_test[\"Fuel_Type\"].map(feature_dict)"
      ],
      "execution_count": null,
      "outputs": []
    },
    {
      "cell_type": "code",
      "metadata": {
        "id": "HJfPNANIJgW5"
      },
      "source": [
        "train_fuel_map = X_train[\"Fuel_Type\"].value_counts().to_dict()\n",
        "train_seller_map = X_train[\"Seller_Type\"].value_counts().to_dict()\n",
        "train_transmission_map = X_train[\"Transmission\"].value_counts().to_dict()\n",
        "\n",
        "# test_fuel_map = X_test[\"Fuel_Type\"].value_counts().to_dict()\n",
        "# test_seller_map = X_test[\"Seller_Type\"].value_counts().to_dict()\n",
        "# test_transmission_map = X_test[\"Transmission\"].value_counts().to_dict()"
      ],
      "execution_count": null,
      "outputs": []
    },
    {
      "cell_type": "code",
      "metadata": {
        "id": "bnxGbWn9J6I4",
        "colab": {
          "base_uri": "https://localhost:8080/"
        },
        "outputId": "379374d9-d60a-4c5b-ba07-b3951875b54d"
      },
      "source": [
        "X_train[\"Fuel_Type\"] = X_train[\"Fuel_Type\"].map(train_fuel_map)\n",
        "X_train[\"Seller_Type\"] = X_train[\"Seller_Type\"].map(train_seller_map)\n",
        "X_train[\"Transmission\"] = X_train[\"Transmission\"].map(train_transmission_map)\n",
        "\n",
        "X_test[\"Fuel_Type\"] = X_test[\"Fuel_Type\"].map(train_fuel_map)\n",
        "X_test[\"Seller_Type\"] = X_test[\"Seller_Type\"].map(train_seller_map)\n",
        "X_test[\"Transmission\"] = X_test[\"Transmission\"].map(train_transmission_map)"
      ],
      "execution_count": null,
      "outputs": [
        {
          "output_type": "stream",
          "text": [
            "/usr/local/lib/python3.7/dist-packages/ipykernel_launcher.py:1: SettingWithCopyWarning: \n",
            "A value is trying to be set on a copy of a slice from a DataFrame.\n",
            "Try using .loc[row_indexer,col_indexer] = value instead\n",
            "\n",
            "See the caveats in the documentation: https://pandas.pydata.org/pandas-docs/stable/user_guide/indexing.html#returning-a-view-versus-a-copy\n",
            "  \"\"\"Entry point for launching an IPython kernel.\n",
            "/usr/local/lib/python3.7/dist-packages/ipykernel_launcher.py:2: SettingWithCopyWarning: \n",
            "A value is trying to be set on a copy of a slice from a DataFrame.\n",
            "Try using .loc[row_indexer,col_indexer] = value instead\n",
            "\n",
            "See the caveats in the documentation: https://pandas.pydata.org/pandas-docs/stable/user_guide/indexing.html#returning-a-view-versus-a-copy\n",
            "  \n",
            "/usr/local/lib/python3.7/dist-packages/ipykernel_launcher.py:3: SettingWithCopyWarning: \n",
            "A value is trying to be set on a copy of a slice from a DataFrame.\n",
            "Try using .loc[row_indexer,col_indexer] = value instead\n",
            "\n",
            "See the caveats in the documentation: https://pandas.pydata.org/pandas-docs/stable/user_guide/indexing.html#returning-a-view-versus-a-copy\n",
            "  This is separate from the ipykernel package so we can avoid doing imports until\n",
            "/usr/local/lib/python3.7/dist-packages/ipykernel_launcher.py:5: SettingWithCopyWarning: \n",
            "A value is trying to be set on a copy of a slice from a DataFrame.\n",
            "Try using .loc[row_indexer,col_indexer] = value instead\n",
            "\n",
            "See the caveats in the documentation: https://pandas.pydata.org/pandas-docs/stable/user_guide/indexing.html#returning-a-view-versus-a-copy\n",
            "  \"\"\"\n",
            "/usr/local/lib/python3.7/dist-packages/ipykernel_launcher.py:6: SettingWithCopyWarning: \n",
            "A value is trying to be set on a copy of a slice from a DataFrame.\n",
            "Try using .loc[row_indexer,col_indexer] = value instead\n",
            "\n",
            "See the caveats in the documentation: https://pandas.pydata.org/pandas-docs/stable/user_guide/indexing.html#returning-a-view-versus-a-copy\n",
            "  \n",
            "/usr/local/lib/python3.7/dist-packages/ipykernel_launcher.py:7: SettingWithCopyWarning: \n",
            "A value is trying to be set on a copy of a slice from a DataFrame.\n",
            "Try using .loc[row_indexer,col_indexer] = value instead\n",
            "\n",
            "See the caveats in the documentation: https://pandas.pydata.org/pandas-docs/stable/user_guide/indexing.html#returning-a-view-versus-a-copy\n",
            "  import sys\n"
          ],
          "name": "stderr"
        }
      ]
    },
    {
      "cell_type": "code",
      "metadata": {
        "colab": {
          "base_uri": "https://localhost:8080/",
          "height": 204
        },
        "id": "dbw-b6B3KOb4",
        "outputId": "282fe216-9fe1-481c-a626-55ee1460e8bb"
      },
      "source": [
        "X_train.head()"
      ],
      "execution_count": null,
      "outputs": [
        {
          "output_type": "execute_result",
          "data": {
            "text/html": [
              "<div>\n",
              "<style scoped>\n",
              "    .dataframe tbody tr th:only-of-type {\n",
              "        vertical-align: middle;\n",
              "    }\n",
              "\n",
              "    .dataframe tbody tr th {\n",
              "        vertical-align: top;\n",
              "    }\n",
              "\n",
              "    .dataframe thead th {\n",
              "        text-align: right;\n",
              "    }\n",
              "</style>\n",
              "<table border=\"1\" class=\"dataframe\">\n",
              "  <thead>\n",
              "    <tr style=\"text-align: right;\">\n",
              "      <th></th>\n",
              "      <th>Year</th>\n",
              "      <th>Present_Price</th>\n",
              "      <th>Kms_Driven</th>\n",
              "      <th>Fuel_Type</th>\n",
              "      <th>Seller_Type</th>\n",
              "      <th>Transmission</th>\n",
              "      <th>Owner</th>\n",
              "    </tr>\n",
              "  </thead>\n",
              "  <tbody>\n",
              "    <tr>\n",
              "      <th>190</th>\n",
              "      <td>2016</td>\n",
              "      <td>4.43</td>\n",
              "      <td>15000</td>\n",
              "      <td>171</td>\n",
              "      <td>128</td>\n",
              "      <td>185</td>\n",
              "      <td>0</td>\n",
              "    </tr>\n",
              "    <tr>\n",
              "      <th>134</th>\n",
              "      <td>2017</td>\n",
              "      <td>0.54</td>\n",
              "      <td>8600</td>\n",
              "      <td>171</td>\n",
              "      <td>77</td>\n",
              "      <td>185</td>\n",
              "      <td>0</td>\n",
              "    </tr>\n",
              "    <tr>\n",
              "      <th>48</th>\n",
              "      <td>2009</td>\n",
              "      <td>15.04</td>\n",
              "      <td>70000</td>\n",
              "      <td>171</td>\n",
              "      <td>128</td>\n",
              "      <td>20</td>\n",
              "      <td>0</td>\n",
              "    </tr>\n",
              "    <tr>\n",
              "      <th>171</th>\n",
              "      <td>2011</td>\n",
              "      <td>0.57</td>\n",
              "      <td>35000</td>\n",
              "      <td>171</td>\n",
              "      <td>77</td>\n",
              "      <td>185</td>\n",
              "      <td>1</td>\n",
              "    </tr>\n",
              "    <tr>\n",
              "      <th>33</th>\n",
              "      <td>2014</td>\n",
              "      <td>9.95</td>\n",
              "      <td>45000</td>\n",
              "      <td>33</td>\n",
              "      <td>128</td>\n",
              "      <td>185</td>\n",
              "      <td>0</td>\n",
              "    </tr>\n",
              "  </tbody>\n",
              "</table>\n",
              "</div>"
            ],
            "text/plain": [
              "     Year  Present_Price  Kms_Driven  ...  Seller_Type  Transmission  Owner\n",
              "190  2016           4.43       15000  ...          128           185      0\n",
              "134  2017           0.54        8600  ...           77           185      0\n",
              "48   2009          15.04       70000  ...          128            20      0\n",
              "171  2011           0.57       35000  ...           77           185      1\n",
              "33   2014           9.95       45000  ...          128           185      0\n",
              "\n",
              "[5 rows x 7 columns]"
            ]
          },
          "metadata": {
            "tags": []
          },
          "execution_count": 20
        }
      ]
    },
    {
      "cell_type": "code",
      "metadata": {
        "colab": {
          "base_uri": "https://localhost:8080/",
          "height": 204
        },
        "id": "nMx4YF0JMNdI",
        "outputId": "727c3a52-074e-4dc0-8c09-54bfad03084e"
      },
      "source": [
        "X_test.head()"
      ],
      "execution_count": null,
      "outputs": [
        {
          "output_type": "execute_result",
          "data": {
            "text/html": [
              "<div>\n",
              "<style scoped>\n",
              "    .dataframe tbody tr th:only-of-type {\n",
              "        vertical-align: middle;\n",
              "    }\n",
              "\n",
              "    .dataframe tbody tr th {\n",
              "        vertical-align: top;\n",
              "    }\n",
              "\n",
              "    .dataframe thead th {\n",
              "        text-align: right;\n",
              "    }\n",
              "</style>\n",
              "<table border=\"1\" class=\"dataframe\">\n",
              "  <thead>\n",
              "    <tr style=\"text-align: right;\">\n",
              "      <th></th>\n",
              "      <th>Year</th>\n",
              "      <th>Present_Price</th>\n",
              "      <th>Kms_Driven</th>\n",
              "      <th>Fuel_Type</th>\n",
              "      <th>Seller_Type</th>\n",
              "      <th>Transmission</th>\n",
              "      <th>Owner</th>\n",
              "    </tr>\n",
              "  </thead>\n",
              "  <tbody>\n",
              "    <tr>\n",
              "      <th>58</th>\n",
              "      <td>2011</td>\n",
              "      <td>12.48</td>\n",
              "      <td>45000</td>\n",
              "      <td>33</td>\n",
              "      <td>128</td>\n",
              "      <td>185</td>\n",
              "      <td>0</td>\n",
              "    </tr>\n",
              "    <tr>\n",
              "      <th>101</th>\n",
              "      <td>2009</td>\n",
              "      <td>1.75</td>\n",
              "      <td>40000</td>\n",
              "      <td>171</td>\n",
              "      <td>77</td>\n",
              "      <td>185</td>\n",
              "      <td>0</td>\n",
              "    </tr>\n",
              "    <tr>\n",
              "      <th>186</th>\n",
              "      <td>2011</td>\n",
              "      <td>6.79</td>\n",
              "      <td>31604</td>\n",
              "      <td>171</td>\n",
              "      <td>128</td>\n",
              "      <td>185</td>\n",
              "      <td>0</td>\n",
              "    </tr>\n",
              "    <tr>\n",
              "      <th>116</th>\n",
              "      <td>2013</td>\n",
              "      <td>1.20</td>\n",
              "      <td>32000</td>\n",
              "      <td>171</td>\n",
              "      <td>77</td>\n",
              "      <td>185</td>\n",
              "      <td>0</td>\n",
              "    </tr>\n",
              "    <tr>\n",
              "      <th>11</th>\n",
              "      <td>2015</td>\n",
              "      <td>10.38</td>\n",
              "      <td>51000</td>\n",
              "      <td>33</td>\n",
              "      <td>128</td>\n",
              "      <td>185</td>\n",
              "      <td>0</td>\n",
              "    </tr>\n",
              "  </tbody>\n",
              "</table>\n",
              "</div>"
            ],
            "text/plain": [
              "     Year  Present_Price  Kms_Driven  ...  Seller_Type  Transmission  Owner\n",
              "58   2011          12.48       45000  ...          128           185      0\n",
              "101  2009           1.75       40000  ...           77           185      0\n",
              "186  2011           6.79       31604  ...          128           185      0\n",
              "116  2013           1.20       32000  ...           77           185      0\n",
              "11   2015          10.38       51000  ...          128           185      0\n",
              "\n",
              "[5 rows x 7 columns]"
            ]
          },
          "metadata": {
            "tags": []
          },
          "execution_count": 21
        }
      ]
    },
    {
      "cell_type": "markdown",
      "metadata": {
        "id": "qGIRpVzFQIMN"
      },
      "source": [
        "<h3>Featrue Selection</h3>\n",
        "<h4>Chi-Square Test</h4>"
      ]
    },
    {
      "cell_type": "code",
      "metadata": {
        "id": "rN4KrXM6LMKG"
      },
      "source": [
        "def chi2_evaluation(col1 , col2 , alpha = 0.05):\n",
        "    dataset_table = pd.crosstab(col1 , col2)\n",
        "    observed_values = dataset_table.values\n",
        "    val = stats.chi2_contingency(dataset_table)\n",
        "    expected_values = val[3]\n",
        "    no_of_rows = len(dataset_table.iloc[: , 0])\n",
        "    no_of_cols = len(dataset_table.iloc[0 , :])\n",
        "    ddof = (no_of_rows - 1) * (no_of_cols - 1)\n",
        "    chi_square = sum([(o - e) ** 2. / e for o , e in zip(observed_values , expected_values)])\n",
        "    chi_square_statistic = sum(chi_square)\n",
        "    critical_value = chi2.ppf(q = 1 - alpha , df = ddof)\n",
        "    p_value = 1 - chi2.cdf(x = chi_square_statistic , df = ddof)\n",
        "\n",
        "    if chi_square_statistic>=critical_value:\n",
        "      print(\"Reject H0,There is a relationship between 2 categorical variables\")\n",
        "    else:\n",
        "      print(\"Retain H0,There is no relationship between 2 categorical variables\")\n",
        "    if p_value<=alpha:\n",
        "      print(\"Reject H0,There is a relationship between 2 categorical variables\")\n",
        "    else:\n",
        "      print(\"Retain H0,There is no relationship between 2 categorical variables\")\n",
        "    \n",
        "    print(\"------------------\\n\")\n",
        "    print(\"p-value : \" ,p_value)\n",
        "    print(\"Degrees of freedom : \" ,ddof)\n",
        "    print(\"Significance level : \" , alpha)\n",
        "    print(\"observed values : \\n\"  , observed_values)\n",
        "    print(\"expected values : \\n\"  , expected_values)"
      ],
      "execution_count": null,
      "outputs": []
    },
    {
      "cell_type": "code",
      "metadata": {
        "colab": {
          "base_uri": "https://localhost:8080/"
        },
        "id": "PW3zkIK6J9cG",
        "outputId": "33bb7a20-2f12-4c00-e847-9596b1da6a28"
      },
      "source": [
        "chi2_evaluation(X_train[\"Transmission\"] , X_train[\"Seller_Type\"])"
      ],
      "execution_count": null,
      "outputs": [
        {
          "output_type": "stream",
          "text": [
            "Retain H0,There is no relationship between 2 categorical variables\n",
            "Retain H0,There is no relationship between 2 categorical variables\n",
            "------------------\n",
            "\n",
            "p-value :  0.8125816827327539\n",
            "Degrees of freedom :  1\n",
            "Significance level :  0.05\n",
            "observed values : \n",
            " [[  8  12]\n",
            " [ 69 116]]\n",
            "expected values : \n",
            " [[  7.51219512  12.48780488]\n",
            " [ 69.48780488 115.51219512]]\n"
          ],
          "name": "stdout"
        }
      ]
    },
    {
      "cell_type": "code",
      "metadata": {
        "colab": {
          "base_uri": "https://localhost:8080/",
          "height": 204
        },
        "id": "r24azmPD7opn",
        "outputId": "07bad174-70d6-4a60-d161-4a27b942c1ea"
      },
      "source": [
        "X_train.head()"
      ],
      "execution_count": null,
      "outputs": [
        {
          "output_type": "execute_result",
          "data": {
            "text/html": [
              "<div>\n",
              "<style scoped>\n",
              "    .dataframe tbody tr th:only-of-type {\n",
              "        vertical-align: middle;\n",
              "    }\n",
              "\n",
              "    .dataframe tbody tr th {\n",
              "        vertical-align: top;\n",
              "    }\n",
              "\n",
              "    .dataframe thead th {\n",
              "        text-align: right;\n",
              "    }\n",
              "</style>\n",
              "<table border=\"1\" class=\"dataframe\">\n",
              "  <thead>\n",
              "    <tr style=\"text-align: right;\">\n",
              "      <th></th>\n",
              "      <th>Year</th>\n",
              "      <th>Present_Price</th>\n",
              "      <th>Kms_Driven</th>\n",
              "      <th>Fuel_Type</th>\n",
              "      <th>Seller_Type</th>\n",
              "      <th>Transmission</th>\n",
              "      <th>Owner</th>\n",
              "    </tr>\n",
              "  </thead>\n",
              "  <tbody>\n",
              "    <tr>\n",
              "      <th>190</th>\n",
              "      <td>2016</td>\n",
              "      <td>4.43</td>\n",
              "      <td>15000</td>\n",
              "      <td>171</td>\n",
              "      <td>128</td>\n",
              "      <td>185</td>\n",
              "      <td>0</td>\n",
              "    </tr>\n",
              "    <tr>\n",
              "      <th>134</th>\n",
              "      <td>2017</td>\n",
              "      <td>0.54</td>\n",
              "      <td>8600</td>\n",
              "      <td>171</td>\n",
              "      <td>77</td>\n",
              "      <td>185</td>\n",
              "      <td>0</td>\n",
              "    </tr>\n",
              "    <tr>\n",
              "      <th>48</th>\n",
              "      <td>2009</td>\n",
              "      <td>15.04</td>\n",
              "      <td>70000</td>\n",
              "      <td>171</td>\n",
              "      <td>128</td>\n",
              "      <td>20</td>\n",
              "      <td>0</td>\n",
              "    </tr>\n",
              "    <tr>\n",
              "      <th>171</th>\n",
              "      <td>2011</td>\n",
              "      <td>0.57</td>\n",
              "      <td>35000</td>\n",
              "      <td>171</td>\n",
              "      <td>77</td>\n",
              "      <td>185</td>\n",
              "      <td>1</td>\n",
              "    </tr>\n",
              "    <tr>\n",
              "      <th>33</th>\n",
              "      <td>2014</td>\n",
              "      <td>9.95</td>\n",
              "      <td>45000</td>\n",
              "      <td>33</td>\n",
              "      <td>128</td>\n",
              "      <td>185</td>\n",
              "      <td>0</td>\n",
              "    </tr>\n",
              "  </tbody>\n",
              "</table>\n",
              "</div>"
            ],
            "text/plain": [
              "     Year  Present_Price  Kms_Driven  ...  Seller_Type  Transmission  Owner\n",
              "190  2016           4.43       15000  ...          128           185      0\n",
              "134  2017           0.54        8600  ...           77           185      0\n",
              "48   2009          15.04       70000  ...          128            20      0\n",
              "171  2011           0.57       35000  ...           77           185      1\n",
              "33   2014           9.95       45000  ...          128           185      0\n",
              "\n",
              "[5 rows x 7 columns]"
            ]
          },
          "metadata": {
            "tags": []
          },
          "execution_count": 24
        }
      ]
    },
    {
      "cell_type": "code",
      "metadata": {
        "colab": {
          "base_uri": "https://localhost:8080/",
          "height": 204
        },
        "id": "eg08RFyn8dqU",
        "outputId": "71599b2f-98a0-4396-8642-ec70d4e6cdf0"
      },
      "source": [
        "y_train.head()"
      ],
      "execution_count": null,
      "outputs": [
        {
          "output_type": "execute_result",
          "data": {
            "text/html": [
              "<div>\n",
              "<style scoped>\n",
              "    .dataframe tbody tr th:only-of-type {\n",
              "        vertical-align: middle;\n",
              "    }\n",
              "\n",
              "    .dataframe tbody tr th {\n",
              "        vertical-align: top;\n",
              "    }\n",
              "\n",
              "    .dataframe thead th {\n",
              "        text-align: right;\n",
              "    }\n",
              "</style>\n",
              "<table border=\"1\" class=\"dataframe\">\n",
              "  <thead>\n",
              "    <tr style=\"text-align: right;\">\n",
              "      <th></th>\n",
              "      <th>Selling_Price</th>\n",
              "    </tr>\n",
              "  </thead>\n",
              "  <tbody>\n",
              "    <tr>\n",
              "      <th>190</th>\n",
              "      <td>3.15</td>\n",
              "    </tr>\n",
              "    <tr>\n",
              "      <th>134</th>\n",
              "      <td>0.48</td>\n",
              "    </tr>\n",
              "    <tr>\n",
              "      <th>48</th>\n",
              "      <td>3.60</td>\n",
              "    </tr>\n",
              "    <tr>\n",
              "      <th>171</th>\n",
              "      <td>0.15</td>\n",
              "    </tr>\n",
              "    <tr>\n",
              "      <th>33</th>\n",
              "      <td>6.00</td>\n",
              "    </tr>\n",
              "  </tbody>\n",
              "</table>\n",
              "</div>"
            ],
            "text/plain": [
              "     Selling_Price\n",
              "190           3.15\n",
              "134           0.48\n",
              "48            3.60\n",
              "171           0.15\n",
              "33            6.00"
            ]
          },
          "metadata": {
            "tags": []
          },
          "execution_count": 25
        }
      ]
    },
    {
      "cell_type": "markdown",
      "metadata": {
        "id": "NJRv3CLLh8Y2"
      },
      "source": [
        "<h4>ANOVA Test</h4>"
      ]
    },
    {
      "cell_type": "code",
      "metadata": {
        "id": "fNAhJH0BUrL7"
      },
      "source": [
        "def anova_evaluation(categorical_col , continuous_col , alpha = 0.05):\n",
        "  df_anova = pd.concat([categorical_col , continuous_col] , axis = 1)\n",
        "  groups = pd.unique(categorical_col.values)\n",
        "  d_data = {group : df_anova[continuous_col.name][df_anova[categorical_col.name] == group] for group in groups}\n",
        "  col_list = []\n",
        "  for i in categorical_col.unique():\n",
        "    col_list.append(d_data[i])\n",
        "  F, p = stats.f_oneway(*col_list)\n",
        "  print(\"p-value : \" , p)\n",
        "  print(\"significance value : \" , alpha)\n",
        "  print(\"\\n-------------------\")\n",
        "  if p < alpha:\n",
        "    return \"Rejecting Null Hypothesis.There is a relationship between these two columns.\"\n",
        "  else:\n",
        "    return \"Accepting Null Hypothesis.There is no relationship between these two columns.\""
      ],
      "execution_count": null,
      "outputs": []
    },
    {
      "cell_type": "code",
      "metadata": {
        "colab": {
          "base_uri": "https://localhost:8080/",
          "height": 103
        },
        "id": "D6di6srNXnOb",
        "outputId": "19b94dd1-7617-4224-f9c9-01aad11af21b"
      },
      "source": [
        "anova_evaluation(X_train[\"Fuel_Type\"] , y_train[\"Selling_Price\"])"
      ],
      "execution_count": null,
      "outputs": [
        {
          "output_type": "stream",
          "text": [
            "p-value :  8.339670761603943e-14\n",
            "significance value :  0.05\n",
            "\n",
            "-------------------\n"
          ],
          "name": "stdout"
        },
        {
          "output_type": "execute_result",
          "data": {
            "application/vnd.google.colaboratory.intrinsic+json": {
              "type": "string"
            },
            "text/plain": [
              "'Rejecting Null Hypothesis.There is a relationship between these two columns.'"
            ]
          },
          "metadata": {
            "tags": []
          },
          "execution_count": 27
        }
      ]
    },
    {
      "cell_type": "code",
      "metadata": {
        "colab": {
          "base_uri": "https://localhost:8080/",
          "height": 103
        },
        "id": "yYMcB2l8YMp_",
        "outputId": "e4b0a2ea-a37e-4b33-e56f-96cf4a3cdbf9"
      },
      "source": [
        "anova_evaluation(X_train[\"Seller_Type\"] , y_train[\"Selling_Price\"])"
      ],
      "execution_count": null,
      "outputs": [
        {
          "output_type": "stream",
          "text": [
            "p-value :  5.615726813696553e-42\n",
            "significance value :  0.05\n",
            "\n",
            "-------------------\n"
          ],
          "name": "stdout"
        },
        {
          "output_type": "execute_result",
          "data": {
            "application/vnd.google.colaboratory.intrinsic+json": {
              "type": "string"
            },
            "text/plain": [
              "'Rejecting Null Hypothesis.There is a relationship between these two columns.'"
            ]
          },
          "metadata": {
            "tags": []
          },
          "execution_count": 28
        }
      ]
    },
    {
      "cell_type": "code",
      "metadata": {
        "colab": {
          "base_uri": "https://localhost:8080/",
          "height": 103
        },
        "id": "-vjasZyPfLYm",
        "outputId": "4e01d911-d41c-49de-fa74-a50e532ef411"
      },
      "source": [
        "anova_evaluation(X_train[\"Transmission\"] , y_train[\"Selling_Price\"])"
      ],
      "execution_count": null,
      "outputs": [
        {
          "output_type": "stream",
          "text": [
            "p-value :  0.8505366211698379\n",
            "significance value :  0.05\n",
            "\n",
            "-------------------\n"
          ],
          "name": "stdout"
        },
        {
          "output_type": "execute_result",
          "data": {
            "application/vnd.google.colaboratory.intrinsic+json": {
              "type": "string"
            },
            "text/plain": [
              "'Accepting Null Hypothesis.There is no relationship between these two columns.'"
            ]
          },
          "metadata": {
            "tags": []
          },
          "execution_count": 29
        }
      ]
    },
    {
      "cell_type": "code",
      "metadata": {
        "colab": {
          "base_uri": "https://localhost:8080/",
          "height": 103
        },
        "id": "8lwXgRPK0YOW",
        "outputId": "6b07d9a6-a720-4691-f9a8-dcdfbd726c12"
      },
      "source": [
        "anova_evaluation(X_train[\"Owner\"] , y_train[\"Selling_Price\"])"
      ],
      "execution_count": null,
      "outputs": [
        {
          "output_type": "stream",
          "text": [
            "p-value :  0.04442798830769734\n",
            "significance value :  0.05\n",
            "\n",
            "-------------------\n"
          ],
          "name": "stdout"
        },
        {
          "output_type": "execute_result",
          "data": {
            "application/vnd.google.colaboratory.intrinsic+json": {
              "type": "string"
            },
            "text/plain": [
              "'Rejecting Null Hypothesis.There is a relationship between these two columns.'"
            ]
          },
          "metadata": {
            "tags": []
          },
          "execution_count": 30
        }
      ]
    },
    {
      "cell_type": "markdown",
      "metadata": {
        "id": "dG1ICnMbgqm_"
      },
      "source": [
        "Transformation ----> drop\n"
      ]
    },
    {
      "cell_type": "markdown",
      "metadata": {
        "id": "KNJZ2szcgfmB"
      },
      "source": [
        "<h4>Mutual Information/Information Gain</h4>"
      ]
    },
    {
      "cell_type": "code",
      "metadata": {
        "colab": {
          "base_uri": "https://localhost:8080/"
        },
        "id": "_G4UMbc9gxcY",
        "outputId": "c1606223-2834-4797-c7a5-9d52932c5379"
      },
      "source": [
        "from sklearn.feature_selection import mutual_info_regression\n",
        "mutual_info = mutual_info_regression(X_train.fillna(0) , y_train)  # we have to assure that all of the nan values are filled with some values\n",
        "mutual_info"
      ],
      "execution_count": null,
      "outputs": [
        {
          "output_type": "stream",
          "text": [
            "/usr/local/lib/python3.7/dist-packages/sklearn/utils/validation.py:760: DataConversionWarning: A column-vector y was passed when a 1d array was expected. Please change the shape of y to (n_samples, ), for example using ravel().\n",
            "  y = column_or_1d(y, warn=True)\n"
          ],
          "name": "stderr"
        },
        {
          "output_type": "execute_result",
          "data": {
            "text/plain": [
              "array([0.12633298, 1.28495937, 0.16774545, 0.11769321, 0.57657206,\n",
              "       0.01820272, 0.07453985])"
            ]
          },
          "metadata": {
            "tags": []
          },
          "execution_count": 31
        }
      ]
    },
    {
      "cell_type": "code",
      "metadata": {
        "colab": {
          "base_uri": "https://localhost:8080/"
        },
        "id": "vboU1uCZk0SK",
        "outputId": "b8394445-bf87-4e52-8b4f-a71d56943bed"
      },
      "source": [
        "mutual_info = pd.Series(mutual_info)\n",
        "mutual_info.index = X_train.columns\n",
        "mutual_info = mutual_info.sort_values(ascending = False)\n",
        "mutual_info"
      ],
      "execution_count": null,
      "outputs": [
        {
          "output_type": "execute_result",
          "data": {
            "text/plain": [
              "Present_Price    1.284959\n",
              "Seller_Type      0.576572\n",
              "Kms_Driven       0.167745\n",
              "Year             0.126333\n",
              "Fuel_Type        0.117693\n",
              "Owner            0.074540\n",
              "Transmission     0.018203\n",
              "dtype: float64"
            ]
          },
          "metadata": {
            "tags": []
          },
          "execution_count": 32
        }
      ]
    },
    {
      "cell_type": "code",
      "metadata": {
        "colab": {
          "base_uri": "https://localhost:8080/",
          "height": 394
        },
        "id": "SJpw_Yj0leNH",
        "outputId": "398203f2-e3a6-4b09-accf-b1a0b1398d0f"
      },
      "source": [
        "mutual_info.sort_values(ascending = False).plot.bar(figsize = (10 , 5))"
      ],
      "execution_count": null,
      "outputs": [
        {
          "output_type": "execute_result",
          "data": {
            "text/plain": [
              "<matplotlib.axes._subplots.AxesSubplot at 0x7f6c7a3e0e50>"
            ]
          },
          "metadata": {
            "tags": []
          },
          "execution_count": 33
        },
        {
          "output_type": "display_data",
          "data": {
            "image/png": "[encoded data removed]",
            "text/plain": [
              "<Figure size 720x360 with 1 Axes>"
            ]
          },
          "metadata": {
            "tags": [],
            "needs_background": "light"
          }
        }
      ]
    },
    {
      "cell_type": "code",
      "metadata": {
        "id": "c4MrG4riq6ot"
      },
      "source": [
        "X_train = X_train.drop(labels = [\"Transmission\" , \"Owner\"] , axis = 1)\n",
        "X_test = X_test.drop(labels = [\"Transmission\" , \"Owner\"] , axis = 1)"
      ],
      "execution_count": null,
      "outputs": []
    },
    {
      "cell_type": "code",
      "metadata": {
        "id": "aNZ2fHtLr-f3"
      },
      "source": [
        "# X_train.to_csv(\"/content/drive/MyDrive/Datasets/car-data/x_train.csv\")\n",
        "# X_test.to_csv(\"/content/drive/MyDrive/Datasets/car-data/x_test.csv\")\n",
        "# y_train.to_csv(\"/content/drive/MyDrive/Datasets/car-data/y_train.csv\")\n",
        "# y_test.to_csv(\"/content/drive/MyDrive/Datasets/car-data/y_test.csv\")"
      ],
      "execution_count": null,
      "outputs": []
    }
  ]
}